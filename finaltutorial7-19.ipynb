{
 "cells": [
  {
   "cell_type": "markdown",
   "metadata": {},
   "source": [
    "# Final Tutorial\n",
    "## Joshua Blume, Zach Mazer, Allen Tu\n",
    "\n",
    "https://www.kaggle.com/fireballbyedimyrnmom/us-counties-covid-19-dataset"
   ]
  },
  {
   "cell_type": "code",
   "execution_count": 1,
   "metadata": {},
   "outputs": [],
   "source": [
    "#!pip install lxml\n",
    "#!pip install html5lib"
   ]
  },
  {
   "cell_type": "code",
   "execution_count": 2,
   "metadata": {},
   "outputs": [
    {
     "data": {
      "text/html": [
       "<div>\n",
       "<style scoped>\n",
       "    .dataframe tbody tr th:only-of-type {\n",
       "        vertical-align: middle;\n",
       "    }\n",
       "\n",
       "    .dataframe tbody tr th {\n",
       "        vertical-align: top;\n",
       "    }\n",
       "\n",
       "    .dataframe thead th {\n",
       "        text-align: right;\n",
       "    }\n",
       "</style>\n",
       "<table border=\"1\" class=\"dataframe\">\n",
       "  <thead>\n",
       "    <tr style=\"text-align: right;\">\n",
       "      <th></th>\n",
       "      <th>date</th>\n",
       "      <th>county</th>\n",
       "      <th>state</th>\n",
       "      <th>fips</th>\n",
       "      <th>cases</th>\n",
       "      <th>deaths</th>\n",
       "    </tr>\n",
       "  </thead>\n",
       "  <tbody>\n",
       "    <tr>\n",
       "      <th>0</th>\n",
       "      <td>2020-01-21</td>\n",
       "      <td>Snohomish</td>\n",
       "      <td>Washington</td>\n",
       "      <td>53061.0</td>\n",
       "      <td>1</td>\n",
       "      <td>0</td>\n",
       "    </tr>\n",
       "    <tr>\n",
       "      <th>1</th>\n",
       "      <td>2020-01-22</td>\n",
       "      <td>Snohomish</td>\n",
       "      <td>Washington</td>\n",
       "      <td>53061.0</td>\n",
       "      <td>1</td>\n",
       "      <td>0</td>\n",
       "    </tr>\n",
       "    <tr>\n",
       "      <th>2</th>\n",
       "      <td>2020-01-23</td>\n",
       "      <td>Snohomish</td>\n",
       "      <td>Washington</td>\n",
       "      <td>53061.0</td>\n",
       "      <td>1</td>\n",
       "      <td>0</td>\n",
       "    </tr>\n",
       "    <tr>\n",
       "      <th>3</th>\n",
       "      <td>2020-01-24</td>\n",
       "      <td>Cook</td>\n",
       "      <td>Illinois</td>\n",
       "      <td>17031.0</td>\n",
       "      <td>1</td>\n",
       "      <td>0</td>\n",
       "    </tr>\n",
       "    <tr>\n",
       "      <th>4</th>\n",
       "      <td>2020-01-24</td>\n",
       "      <td>Snohomish</td>\n",
       "      <td>Washington</td>\n",
       "      <td>53061.0</td>\n",
       "      <td>1</td>\n",
       "      <td>0</td>\n",
       "    </tr>\n",
       "    <tr>\n",
       "      <th>...</th>\n",
       "      <td>...</td>\n",
       "      <td>...</td>\n",
       "      <td>...</td>\n",
       "      <td>...</td>\n",
       "      <td>...</td>\n",
       "      <td>...</td>\n",
       "    </tr>\n",
       "    <tr>\n",
       "      <th>331174</th>\n",
       "      <td>2020-07-13</td>\n",
       "      <td>Sweetwater</td>\n",
       "      <td>Wyoming</td>\n",
       "      <td>56037.0</td>\n",
       "      <td>150</td>\n",
       "      <td>0</td>\n",
       "    </tr>\n",
       "    <tr>\n",
       "      <th>331175</th>\n",
       "      <td>2020-07-13</td>\n",
       "      <td>Teton</td>\n",
       "      <td>Wyoming</td>\n",
       "      <td>56039.0</td>\n",
       "      <td>162</td>\n",
       "      <td>1</td>\n",
       "    </tr>\n",
       "    <tr>\n",
       "      <th>331176</th>\n",
       "      <td>2020-07-13</td>\n",
       "      <td>Uinta</td>\n",
       "      <td>Wyoming</td>\n",
       "      <td>56041.0</td>\n",
       "      <td>205</td>\n",
       "      <td>0</td>\n",
       "    </tr>\n",
       "    <tr>\n",
       "      <th>331177</th>\n",
       "      <td>2020-07-13</td>\n",
       "      <td>Washakie</td>\n",
       "      <td>Wyoming</td>\n",
       "      <td>56043.0</td>\n",
       "      <td>42</td>\n",
       "      <td>5</td>\n",
       "    </tr>\n",
       "    <tr>\n",
       "      <th>331178</th>\n",
       "      <td>2020-07-13</td>\n",
       "      <td>Weston</td>\n",
       "      <td>Wyoming</td>\n",
       "      <td>56045.0</td>\n",
       "      <td>3</td>\n",
       "      <td>0</td>\n",
       "    </tr>\n",
       "  </tbody>\n",
       "</table>\n",
       "<p>331179 rows × 6 columns</p>\n",
       "</div>"
      ],
      "text/plain": [
       "              date      county       state     fips  cases  deaths\n",
       "0       2020-01-21   Snohomish  Washington  53061.0      1       0\n",
       "1       2020-01-22   Snohomish  Washington  53061.0      1       0\n",
       "2       2020-01-23   Snohomish  Washington  53061.0      1       0\n",
       "3       2020-01-24        Cook    Illinois  17031.0      1       0\n",
       "4       2020-01-24   Snohomish  Washington  53061.0      1       0\n",
       "...            ...         ...         ...      ...    ...     ...\n",
       "331174  2020-07-13  Sweetwater     Wyoming  56037.0    150       0\n",
       "331175  2020-07-13       Teton     Wyoming  56039.0    162       1\n",
       "331176  2020-07-13       Uinta     Wyoming  56041.0    205       0\n",
       "331177  2020-07-13    Washakie     Wyoming  56043.0     42       5\n",
       "331178  2020-07-13      Weston     Wyoming  56045.0      3       0\n",
       "\n",
       "[331179 rows x 6 columns]"
      ]
     },
     "execution_count": 2,
     "metadata": {},
     "output_type": "execute_result"
    }
   ],
   "source": [
    "import pandas as pd\n",
    "import numpy as np\n",
    "import matplotlib.pyplot as plt\n",
    "from sklearn import linear_model\n",
    "\n",
    "\n",
    "# Read covid cases and deaths for each county.\n",
    "covid = pd.read_csv('us-counties.csv')\n",
    "\n",
    "covid"
   ]
  },
  {
   "cell_type": "code",
   "execution_count": 3,
   "metadata": {},
   "outputs": [
    {
     "data": {
      "image/png": "[encoded data removed]",
      "text/plain": [
       "<Figure size 432x288 with 1 Axes>"
      ]
     },
     "metadata": {
      "needs_background": "light"
     },
     "output_type": "display_data"
    }
   ],
   "source": [
    "# Plot sum of all cases across all counties for each day over time.\n",
    "covid.groupby('date')['cases'].sum().plot()\n",
    "plt.title('COVID-19 Cases vs. Time')\n",
    "plt.xlabel('Date')\n",
    "plt.ylabel('Number of COVID-19 Cases')\n",
    "plt.show()"
   ]
  },
  {
   "cell_type": "markdown",
   "metadata": {},
   "source": [
    "Preprocess covid. "
   ]
  },
  {
   "cell_type": "code",
   "execution_count": 4,
   "metadata": {},
   "outputs": [
    {
     "data": {
      "text/html": [
       "<div>\n",
       "<style scoped>\n",
       "    .dataframe tbody tr th:only-of-type {\n",
       "        vertical-align: middle;\n",
       "    }\n",
       "\n",
       "    .dataframe tbody tr th {\n",
       "        vertical-align: top;\n",
       "    }\n",
       "\n",
       "    .dataframe thead th {\n",
       "        text-align: right;\n",
       "    }\n",
       "</style>\n",
       "<table border=\"1\" class=\"dataframe\">\n",
       "  <thead>\n",
       "    <tr style=\"text-align: right;\">\n",
       "      <th></th>\n",
       "      <th>date</th>\n",
       "      <th>county</th>\n",
       "      <th>state</th>\n",
       "      <th>cases</th>\n",
       "      <th>deaths</th>\n",
       "      <th>mortality</th>\n",
       "    </tr>\n",
       "  </thead>\n",
       "  <tbody>\n",
       "    <tr>\n",
       "      <th>0</th>\n",
       "      <td>2020-01-21</td>\n",
       "      <td>Snohomish, Washington</td>\n",
       "      <td>Washington</td>\n",
       "      <td>1</td>\n",
       "      <td>0</td>\n",
       "      <td>0.000000</td>\n",
       "    </tr>\n",
       "    <tr>\n",
       "      <th>1</th>\n",
       "      <td>2020-01-22</td>\n",
       "      <td>Snohomish, Washington</td>\n",
       "      <td>Washington</td>\n",
       "      <td>1</td>\n",
       "      <td>0</td>\n",
       "      <td>0.000000</td>\n",
       "    </tr>\n",
       "    <tr>\n",
       "      <th>2</th>\n",
       "      <td>2020-01-23</td>\n",
       "      <td>Snohomish, Washington</td>\n",
       "      <td>Washington</td>\n",
       "      <td>1</td>\n",
       "      <td>0</td>\n",
       "      <td>0.000000</td>\n",
       "    </tr>\n",
       "    <tr>\n",
       "      <th>3</th>\n",
       "      <td>2020-01-24</td>\n",
       "      <td>Cook, Illinois</td>\n",
       "      <td>Illinois</td>\n",
       "      <td>1</td>\n",
       "      <td>0</td>\n",
       "      <td>0.000000</td>\n",
       "    </tr>\n",
       "    <tr>\n",
       "      <th>4</th>\n",
       "      <td>2020-01-24</td>\n",
       "      <td>Snohomish, Washington</td>\n",
       "      <td>Washington</td>\n",
       "      <td>1</td>\n",
       "      <td>0</td>\n",
       "      <td>0.000000</td>\n",
       "    </tr>\n",
       "    <tr>\n",
       "      <th>...</th>\n",
       "      <td>...</td>\n",
       "      <td>...</td>\n",
       "      <td>...</td>\n",
       "      <td>...</td>\n",
       "      <td>...</td>\n",
       "      <td>...</td>\n",
       "    </tr>\n",
       "    <tr>\n",
       "      <th>331174</th>\n",
       "      <td>2020-07-13</td>\n",
       "      <td>Sweetwater, Wyoming</td>\n",
       "      <td>Wyoming</td>\n",
       "      <td>150</td>\n",
       "      <td>0</td>\n",
       "      <td>0.000000</td>\n",
       "    </tr>\n",
       "    <tr>\n",
       "      <th>331175</th>\n",
       "      <td>2020-07-13</td>\n",
       "      <td>Teton, Wyoming</td>\n",
       "      <td>Wyoming</td>\n",
       "      <td>162</td>\n",
       "      <td>1</td>\n",
       "      <td>0.006173</td>\n",
       "    </tr>\n",
       "    <tr>\n",
       "      <th>331176</th>\n",
       "      <td>2020-07-13</td>\n",
       "      <td>Uinta, Wyoming</td>\n",
       "      <td>Wyoming</td>\n",
       "      <td>205</td>\n",
       "      <td>0</td>\n",
       "      <td>0.000000</td>\n",
       "    </tr>\n",
       "    <tr>\n",
       "      <th>331177</th>\n",
       "      <td>2020-07-13</td>\n",
       "      <td>Washakie, Wyoming</td>\n",
       "      <td>Wyoming</td>\n",
       "      <td>42</td>\n",
       "      <td>5</td>\n",
       "      <td>0.119048</td>\n",
       "    </tr>\n",
       "    <tr>\n",
       "      <th>331178</th>\n",
       "      <td>2020-07-13</td>\n",
       "      <td>Weston, Wyoming</td>\n",
       "      <td>Wyoming</td>\n",
       "      <td>3</td>\n",
       "      <td>0</td>\n",
       "      <td>0.000000</td>\n",
       "    </tr>\n",
       "  </tbody>\n",
       "</table>\n",
       "<p>331179 rows × 6 columns</p>\n",
       "</div>"
      ],
      "text/plain": [
       "              date                 county       state  cases  deaths  \\\n",
       "0       2020-01-21  Snohomish, Washington  Washington      1       0   \n",
       "1       2020-01-22  Snohomish, Washington  Washington      1       0   \n",
       "2       2020-01-23  Snohomish, Washington  Washington      1       0   \n",
       "3       2020-01-24         Cook, Illinois    Illinois      1       0   \n",
       "4       2020-01-24  Snohomish, Washington  Washington      1       0   \n",
       "...            ...                    ...         ...    ...     ...   \n",
       "331174  2020-07-13    Sweetwater, Wyoming     Wyoming    150       0   \n",
       "331175  2020-07-13         Teton, Wyoming     Wyoming    162       1   \n",
       "331176  2020-07-13         Uinta, Wyoming     Wyoming    205       0   \n",
       "331177  2020-07-13      Washakie, Wyoming     Wyoming     42       5   \n",
       "331178  2020-07-13        Weston, Wyoming     Wyoming      3       0   \n",
       "\n",
       "        mortality  \n",
       "0        0.000000  \n",
       "1        0.000000  \n",
       "2        0.000000  \n",
       "3        0.000000  \n",
       "4        0.000000  \n",
       "...           ...  \n",
       "331174   0.000000  \n",
       "331175   0.006173  \n",
       "331176   0.000000  \n",
       "331177   0.119048  \n",
       "331178   0.000000  \n",
       "\n",
       "[331179 rows x 6 columns]"
      ]
     },
     "execution_count": 4,
     "metadata": {},
     "output_type": "execute_result"
    }
   ],
   "source": [
    "# Remove rows for unknown counties. \n",
    "#covid = covid[covid.county != 'Unknown']\n",
    "\n",
    "# Join county and state column because some counties share a name.\n",
    "# State column is retained because it is useful for comparison.\n",
    "covid['county'] = covid['county'].str.cat(covid['state'],sep=\", \")\n",
    "# Drop fips column because other datasets do not use it as an identifier. \n",
    "covid.drop(['fips'], axis=1, inplace=True)\n",
    "\n",
    "# Add mortality rate column (mortality = deaths/cases).\n",
    "covid['mortality'] = covid['deaths'].divide(covid['cases'])\n",
    "\n",
    "covid"
   ]
  },
  {
   "cell_type": "markdown",
   "metadata": {},
   "source": [
    "Use counties with the most cases."
   ]
  },
  {
   "cell_type": "code",
   "execution_count": 5,
   "metadata": {},
   "outputs": [
    {
     "data": {
      "image/png": "[encoded data removed]",
      "text/plain": [
       "<Figure size 432x288 with 1 Axes>"
      ]
     },
     "metadata": {
      "needs_background": "light"
     },
     "output_type": "display_data"
    },
    {
     "data": {
      "image/png": "[encoded data removed]",
      "text/plain": [
       "<Figure size 432x288 with 1 Axes>"
      ]
     },
     "metadata": {
      "needs_background": "light"
     },
     "output_type": "display_data"
    },
    {
     "data": {
      "image/png": "[encoded data removed]",
      "text/plain": [
       "<Figure size 432x288 with 1 Axes>"
      ]
     },
     "metadata": {
      "needs_background": "light"
     },
     "output_type": "display_data"
    },
    {
     "data": {
      "image/png": "[encoded data removed]",
      "text/plain": [
       "<Figure size 432x288 with 1 Axes>"
      ]
     },
     "metadata": {
      "needs_background": "light"
     },
     "output_type": "display_data"
    }
   ],
   "source": [
    "# Select the most current data. \n",
    "covid_current = covid.loc[covid['date'] == covid.date.max()]\n",
    "\n",
    "# Creates top 10 bar chart by county.\n",
    "def top_10_county(measure):\n",
    "    # Get top 10 counties for chosen measure.\n",
    "    bar_chart = covid_current.sort_values(by=measure, ascending=False)\n",
    "    bar_chart = bar_chart.head(10)\n",
    "    # Create bar chart.\n",
    "    plt.barh(bar_chart['county'], bar_chart[measure])\n",
    "    plt.title(measure.capitalize() + ' by County')\n",
    "    plt.xlabel(measure.capitalize())\n",
    "    plt.ylabel('County')\n",
    "    plt.show()\n",
    "    \n",
    "# Creates top 10 bar chart by state.\n",
    "def top_10_state(measure):    \n",
    "    bar_chart = covid_current.groupby('state', as_index=False)[[measure]].sum()\n",
    "    bar_chart = bar_chart.sort_values(by=measure, ascending=False)\n",
    "    bar_chart = bar_chart.head(10)\n",
    "    bar_chart.describe()\n",
    "    # Create bar chart.\n",
    "    plt.barh(bar_chart['state'], bar_chart[measure])\n",
    "    plt.title(measure.capitalize() + ' by State')\n",
    "    plt.xlabel(measure.capitalize())\n",
    "    plt.ylabel('County')\n",
    "    plt.show() \n",
    "    \n",
    "# Top 10 cases and deaths for states and counties. \n",
    "top_10_state('cases')\n",
    "top_10_county('cases')\n",
    "top_10_state('deaths')\n",
    "top_10_county('deaths')"
   ]
  },
  {
   "cell_type": "markdown",
   "metadata": {},
   "source": [
    "COVID cases over time. "
   ]
  },
  {
   "cell_type": "code",
   "execution_count": 6,
   "metadata": {
    "jupyter": {
     "outputs_hidden": true
    }
   },
   "outputs": [
    {
     "ename": "NameError",
     "evalue": "name 'top_cases' is not defined",
     "output_type": "error",
     "traceback": [
      "\u001b[0;31m---------------------------------------------------------------------------\u001b[0m",
      "\u001b[0;31mNameError\u001b[0m                                 Traceback (most recent call last)",
      "\u001b[0;32m<ipython-input-6-1ede9a4a9870>\u001b[0m in \u001b[0;36m<module>\u001b[0;34m\u001b[0m\n\u001b[1;32m      1\u001b[0m \u001b[0;31m# Plot number of COVID19 cases over time for the 10 counties with the most COVID19 cases.\u001b[0m\u001b[0;34m\u001b[0m\u001b[0;34m\u001b[0m\u001b[0;34m\u001b[0m\u001b[0m\n\u001b[1;32m      2\u001b[0m \u001b[0;32mfor\u001b[0m \u001b[0mi\u001b[0m \u001b[0;32min\u001b[0m \u001b[0mrange\u001b[0m\u001b[0;34m(\u001b[0m\u001b[0;36m0\u001b[0m\u001b[0;34m,\u001b[0m\u001b[0;36m100\u001b[0m\u001b[0;34m)\u001b[0m\u001b[0;34m:\u001b[0m\u001b[0;34m\u001b[0m\u001b[0;34m\u001b[0m\u001b[0m\n\u001b[0;32m----> 3\u001b[0;31m     \u001b[0mcounty\u001b[0m \u001b[0;34m=\u001b[0m \u001b[0mtop_cases\u001b[0m\u001b[0;34m.\u001b[0m\u001b[0mcounty\u001b[0m\u001b[0;34m[\u001b[0m\u001b[0mi\u001b[0m\u001b[0;34m]\u001b[0m\u001b[0;34m\u001b[0m\u001b[0;34m\u001b[0m\u001b[0m\n\u001b[0m\u001b[1;32m      4\u001b[0m     \u001b[0;31m# Select all rows from this county.\u001b[0m\u001b[0;34m\u001b[0m\u001b[0;34m\u001b[0m\u001b[0;34m\u001b[0m\u001b[0m\n\u001b[1;32m      5\u001b[0m     \u001b[0mcounty_data\u001b[0m \u001b[0;34m=\u001b[0m \u001b[0mcovid\u001b[0m\u001b[0;34m.\u001b[0m\u001b[0mloc\u001b[0m\u001b[0;34m[\u001b[0m\u001b[0mcovid\u001b[0m\u001b[0;34m[\u001b[0m\u001b[0;34m'county'\u001b[0m\u001b[0;34m]\u001b[0m \u001b[0;34m==\u001b[0m \u001b[0mcounty\u001b[0m\u001b[0;34m]\u001b[0m\u001b[0;34m\u001b[0m\u001b[0;34m\u001b[0m\u001b[0m\n",
      "\u001b[0;31mNameError\u001b[0m: name 'top_cases' is not defined"
     ]
    }
   ],
   "source": [
    "# Plot number of COVID19 cases over time for the 10 counties with the most COVID19 cases.\n",
    "for i in range(0,100):\n",
    "    county = top_cases.county[i]\n",
    "    # Select all rows from this county.\n",
    "    county_data = covid.loc[covid['county'] == county]\n",
    "    # Create line chart. \n",
    "    plt.plot(county_data['date'], county_data['cases'])\n",
    "    plt.title(county)\n",
    "    plt.xlabel('Date')\n",
    "    date_ticks = [county_data['date'].min(), county_data['date'].max()]\n",
    "    plt.xticks(date_ticks)\n",
    "    plt.ylabel('Number of COVID19 Cases')\n",
    "    plt.show()"
   ]
  },
  {
   "cell_type": "code",
   "execution_count": null,
   "metadata": {},
   "outputs": [],
   "source": [
    "\n",
    "top_mortality_rate = top_cases.sort_values(by='mortality', ascending=False)\n",
    "\n",
    "head = top_mortality_rate.head(20)"
   ]
  },
  {
   "cell_type": "code",
   "execution_count": null,
   "metadata": {},
   "outputs": [],
   "source": [
    "census = pd.read_excel('co-est2019-annres.xlsx')\n",
    "census = census[['County', 2019]]\n",
    "census.columns = ['County, State', 'Population']\n",
    "census = census.dropna()\n",
    "\n",
    "census[['County', 'State']] = census['County, State'].str.split(', ', expand=True)\n",
    "census['County'] = census['County'].str.replace('.', '')\n",
    "census['County'] = census['County'].str.replace(' County', '')\n",
    "census = census[['County', 'State', 'Population']]\n",
    "\n",
    "\n",
    "census.loc[census['County'].isin(head.county)]"
   ]
  },
  {
   "cell_type": "code",
   "execution_count": 7,
   "metadata": {},
   "outputs": [
    {
     "data": {
      "text/html": [
       "<div>\n",
       "<style scoped>\n",
       "    .dataframe tbody tr th:only-of-type {\n",
       "        vertical-align: middle;\n",
       "    }\n",
       "\n",
       "    .dataframe tbody tr th {\n",
       "        vertical-align: top;\n",
       "    }\n",
       "\n",
       "    .dataframe thead th {\n",
       "        text-align: right;\n",
       "    }\n",
       "</style>\n",
       "<table border=\"1\" class=\"dataframe\">\n",
       "  <thead>\n",
       "    <tr style=\"text-align: right;\">\n",
       "      <th></th>\n",
       "      <th>state</th>\n",
       "      <th>cases</th>\n",
       "    </tr>\n",
       "  </thead>\n",
       "  <tbody>\n",
       "    <tr>\n",
       "      <th>0</th>\n",
       "      <td>Alabama</td>\n",
       "      <td>1909754</td>\n",
       "    </tr>\n",
       "    <tr>\n",
       "      <th>1</th>\n",
       "      <td>Alaska</td>\n",
       "      <td>63400</td>\n",
       "    </tr>\n",
       "    <tr>\n",
       "      <th>2</th>\n",
       "      <td>Arizona</td>\n",
       "      <td>3217685</td>\n",
       "    </tr>\n",
       "    <tr>\n",
       "      <th>3</th>\n",
       "      <td>Arkansas</td>\n",
       "      <td>934743</td>\n",
       "    </tr>\n",
       "    <tr>\n",
       "      <th>4</th>\n",
       "      <td>California</td>\n",
       "      <td>12044560</td>\n",
       "    </tr>\n",
       "  </tbody>\n",
       "</table>\n",
       "</div>"
      ],
      "text/plain": [
       "        state     cases\n",
       "0     Alabama   1909754\n",
       "1      Alaska     63400\n",
       "2     Arizona   3217685\n",
       "3    Arkansas    934743\n",
       "4  California  12044560"
      ]
     },
     "execution_count": 7,
     "metadata": {},
     "output_type": "execute_result"
    }
   ],
   "source": [
    "# D.C., Guam, Northern Mariana Islands, Puerto Rico, Virign Islands account for 5 extras\n",
    "\n",
    "cases = {}\n",
    "groups = covid.groupby('state')\n",
    "state_list = []\n",
    "s_names = []\n",
    "for state, g in groups:\n",
    "    state_list.append(g)\n",
    "    s_names.append(state)\n",
    "    \n",
    "for i, state in enumerate(state_list):\n",
    "    total = state['cases'].sum()\n",
    "    cases[s_names[i]] = total\n",
    "    \n",
    "simple_df = pd.DataFrame(list(cases.items()),columns = ['state','cases'])\n",
    "\n",
    "simple_df.head()"
   ]
  },
  {
   "cell_type": "code",
   "execution_count": 8,
   "metadata": {},
   "outputs": [
    {
     "data": {
      "text/html": [
       "<div>\n",
       "<style scoped>\n",
       "    .dataframe tbody tr th:only-of-type {\n",
       "        vertical-align: middle;\n",
       "    }\n",
       "\n",
       "    .dataframe tbody tr th {\n",
       "        vertical-align: top;\n",
       "    }\n",
       "\n",
       "    .dataframe thead th {\n",
       "        text-align: right;\n",
       "    }\n",
       "</style>\n",
       "<table border=\"1\" class=\"dataframe\">\n",
       "  <thead>\n",
       "    <tr style=\"text-align: right;\">\n",
       "      <th></th>\n",
       "      <th>rank</th>\n",
       "      <th>state</th>\n",
       "      <th>pop</th>\n",
       "      <th>percent of total pop</th>\n",
       "    </tr>\n",
       "  </thead>\n",
       "  <tbody>\n",
       "    <tr>\n",
       "      <th>0</th>\n",
       "      <td>1.0</td>\n",
       "      <td>California</td>\n",
       "      <td>39512223</td>\n",
       "      <td>11.91%</td>\n",
       "    </tr>\n",
       "    <tr>\n",
       "      <th>1</th>\n",
       "      <td>2.0</td>\n",
       "      <td>Texas</td>\n",
       "      <td>28995881</td>\n",
       "      <td>8.74%</td>\n",
       "    </tr>\n",
       "    <tr>\n",
       "      <th>2</th>\n",
       "      <td>3.0</td>\n",
       "      <td>Florida</td>\n",
       "      <td>21477737</td>\n",
       "      <td>6.47%</td>\n",
       "    </tr>\n",
       "    <tr>\n",
       "      <th>3</th>\n",
       "      <td>4.0</td>\n",
       "      <td>New York</td>\n",
       "      <td>19453561</td>\n",
       "      <td>5.86%</td>\n",
       "    </tr>\n",
       "    <tr>\n",
       "      <th>4</th>\n",
       "      <td>5.0</td>\n",
       "      <td>Illinois</td>\n",
       "      <td>12671821</td>\n",
       "      <td>3.86%</td>\n",
       "    </tr>\n",
       "  </tbody>\n",
       "</table>\n",
       "</div>"
      ],
      "text/plain": [
       "   rank       state       pop percent of total pop\n",
       "0   1.0  California  39512223               11.91%\n",
       "1   2.0       Texas  28995881                8.74%\n",
       "2   3.0     Florida  21477737                6.47%\n",
       "3   4.0    New York  19453561                5.86%\n",
       "4   5.0    Illinois  12671821                3.86%"
      ]
     },
     "execution_count": 8,
     "metadata": {},
     "output_type": "execute_result"
    }
   ],
   "source": [
    "pop_list = pd.read_html(\"https://www.infoplease.com/us/states/state-population-by-rank\")\n",
    "\n",
    "pop_df = pop_list[0]\n",
    "pop_df.columns = ['rank', 'state', 'pop', 'percent of total pop']\n",
    "pop_df.head()"
   ]
  },
  {
   "cell_type": "code",
   "execution_count": 11,
   "metadata": {},
   "outputs": [
    {
     "data": {
      "text/html": [
       "<div>\n",
       "<style scoped>\n",
       "    .dataframe tbody tr th:only-of-type {\n",
       "        vertical-align: middle;\n",
       "    }\n",
       "\n",
       "    .dataframe tbody tr th {\n",
       "        vertical-align: top;\n",
       "    }\n",
       "\n",
       "    .dataframe thead th {\n",
       "        text-align: right;\n",
       "    }\n",
       "</style>\n",
       "<table border=\"1\" class=\"dataframe\">\n",
       "  <thead>\n",
       "    <tr style=\"text-align: right;\">\n",
       "      <th></th>\n",
       "      <th>rank</th>\n",
       "      <th>state</th>\n",
       "      <th>pop</th>\n",
       "      <th>cases</th>\n",
       "    </tr>\n",
       "  </thead>\n",
       "  <tbody>\n",
       "    <tr>\n",
       "      <th>0</th>\n",
       "      <td>1.0</td>\n",
       "      <td>California</td>\n",
       "      <td>39512223</td>\n",
       "      <td>12044560</td>\n",
       "    </tr>\n",
       "    <tr>\n",
       "      <th>1</th>\n",
       "      <td>2.0</td>\n",
       "      <td>Texas</td>\n",
       "      <td>28995881</td>\n",
       "      <td>7956640</td>\n",
       "    </tr>\n",
       "    <tr>\n",
       "      <th>2</th>\n",
       "      <td>3.0</td>\n",
       "      <td>Florida</td>\n",
       "      <td>21477737</td>\n",
       "      <td>7564805</td>\n",
       "    </tr>\n",
       "    <tr>\n",
       "      <th>3</th>\n",
       "      <td>4.0</td>\n",
       "      <td>New York</td>\n",
       "      <td>19453561</td>\n",
       "      <td>34540505</td>\n",
       "    </tr>\n",
       "    <tr>\n",
       "      <th>4</th>\n",
       "      <td>5.0</td>\n",
       "      <td>Illinois</td>\n",
       "      <td>12671821</td>\n",
       "      <td>9642113</td>\n",
       "    </tr>\n",
       "  </tbody>\n",
       "</table>\n",
       "</div>"
      ],
      "text/plain": [
       "   rank       state       pop     cases\n",
       "0   1.0  California  39512223  12044560\n",
       "1   2.0       Texas  28995881   7956640\n",
       "2   3.0     Florida  21477737   7564805\n",
       "3   4.0    New York  19453561  34540505\n",
       "4   5.0    Illinois  12671821   9642113"
      ]
     },
     "execution_count": 11,
     "metadata": {},
     "output_type": "execute_result"
    }
   ],
   "source": [
    "covid_pop = pd.merge(left=pop_df, right=simple_df, left_on='state', right_on='state')\n",
    "covid_pop = covid_pop.drop(columns=['percent of total pop'])\n",
    "covid_pop.head()"
   ]
  },
  {
   "cell_type": "code",
   "execution_count": 13,
   "metadata": {},
   "outputs": [
    {
     "data": {
      "text/plain": [
       "Text(0, 0.5, 'number of cases')"
      ]
     },
     "execution_count": 13,
     "metadata": {},
     "output_type": "execute_result"
    },
    {
     "data": {
      "image/png": "[encoded data removed]",
      "text/plain": [
       "<Figure size 432x288 with 1 Axes>"
      ]
     },
     "metadata": {
      "needs_background": "light"
     },
     "output_type": "display_data"
    }
   ],
   "source": [
    "plt.scatter(covid_pop['pop'], covid_pop['cases'])\n",
    "plt.title(\"Covid-19 cases and population\")\n",
    "plt.xlabel('population')\n",
    "plt.ylabel('number of cases')"
   ]
  },
  {
   "cell_type": "code",
   "execution_count": 16,
   "metadata": {},
   "outputs": [],
   "source": [
    "pop = covid_pop['pop'].values.reshape(-1,1)\n",
    "cases = covid_pop['cases'].values.reshape(-1,1)\n",
    "\n",
    "model = linear_model.LinearRegression()\n",
    "model.fit(pop, cases)\n",
    "predicted = model.predict(pop)"
   ]
  },
  {
   "cell_type": "code",
   "execution_count": 20,
   "metadata": {},
   "outputs": [
    {
     "data": {
      "text/plain": [
       "Text(0, 0.5, 'number of cases')"
      ]
     },
     "execution_count": 20,
     "metadata": {},
     "output_type": "execute_result"
    },
    {
     "data": {
      "image/png": "[encoded data removed]",
      "text/plain": [
       "<Figure size 432x288 with 1 Axes>"
      ]
     },
     "metadata": {
      "needs_background": "light"
     },
     "output_type": "display_data"
    }
   ],
   "source": [
    "plt.plot(pop,predicted)\n",
    "plt.scatter(pop, cases)\n",
    "plt.title(\"Covid-19 cases and population\")\n",
    "plt.xlabel('population')\n",
    "plt.ylabel('number of cases')"
   ]
  },
  {
   "cell_type": "code",
   "execution_count": null,
   "metadata": {},
   "outputs": [],
   "source": []
  }
 ],
 "metadata": {
  "kernelspec": {
   "display_name": "Python 3",
   "language": "python",
   "name": "python3"
  },
  "language_info": {
   "codemirror_mode": {
    "name": "ipython",
    "version": 3
   },
   "file_extension": ".py",
   "mimetype": "text/x-python",
   "name": "python",
   "nbconvert_exporter": "python",
   "pygments_lexer": "ipython3",
   "version": "3.7.6"
  }
 },
 "nbformat": 4,
 "nbformat_minor": 4
}
