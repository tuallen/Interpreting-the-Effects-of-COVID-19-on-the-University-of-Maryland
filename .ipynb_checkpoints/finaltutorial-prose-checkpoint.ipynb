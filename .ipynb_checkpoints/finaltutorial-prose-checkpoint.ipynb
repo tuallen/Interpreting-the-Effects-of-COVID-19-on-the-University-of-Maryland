{
 "cells": [
  {
   "cell_type": "markdown",
   "metadata": {},
   "source": [
    "# Interpreting the effects of COVID-19 on the University of Maryland Fall Semester\n",
    "**by Allen Tu, Joshua Blume, Zach Mazer** – July 21, 2020<br>\n",
    "<a href=\"https://www.kaggle.com/fireballbyedimyrnmom/us-counties-covid-19-dataset\">Data</a> by the New York Times"
   ]
  },
  {
   "cell_type": "markdown",
   "metadata": {},
   "source": [
    "<p>On March 18, 2020, The University of Maryland began operating online due to the coronavirus pandemic. Since then, the country has experienced numerous overlapping responses from federal, state and local governments in an effort to prevent and contain the spread of COVID-19. The state of Maryland, which has spent several months under evolving lockdown orders, is now allowing limited on-campus courses at universities for the Fall semester. This leaves many students considering whether or not it's safe to be on campus and if they should live in residence halls and nearby apartments.</p>"
   ]
  },
  {
   "cell_type": "markdown",
   "metadata": {},
   "source": [
    "## Case data on coronavirus\n",
    "<p>Considering the uncertainty of this period, we want to demonstrate the trends of coronavirus in the country and what we could expect in Maryland during the Fall semester with the information currently available to us. We'll primarily be using the coronavirus data compiled by the New York Times, then processing it to demonstrate various facts about the state of the pandemic.</p>\n",
    "<p>The first thing we'll do is read in the data from the <a href=\"https://raw.githubusercontent.com/nytimes/covid-19-data/master/us-counties.csv\">'us-counties.csv'</a> file in the <a href=\"https://github.com/nytimes/covid-19-data\">New York Times COVID-19 GitHub</a>. This DataFrame tracks the number of COVID-19 cases and deaths across US counties for each day since 21 January, 2020.</p>"
   ]
  },
  {
   "cell_type": "code",
   "execution_count": 1,
   "metadata": {},
   "outputs": [
    {
     "data": {
      "text/html": [
       "<div>\n",
       "<style scoped>\n",
       "    .dataframe tbody tr th:only-of-type {\n",
       "        vertical-align: middle;\n",
       "    }\n",
       "\n",
       "    .dataframe tbody tr th {\n",
       "        vertical-align: top;\n",
       "    }\n",
       "\n",
       "    .dataframe thead th {\n",
       "        text-align: right;\n",
       "    }\n",
       "</style>\n",
       "<table border=\"1\" class=\"dataframe\">\n",
       "  <thead>\n",
       "    <tr style=\"text-align: right;\">\n",
       "      <th></th>\n",
       "      <th>date</th>\n",
       "      <th>county</th>\n",
       "      <th>state</th>\n",
       "      <th>fips</th>\n",
       "      <th>cases</th>\n",
       "      <th>deaths</th>\n",
       "    </tr>\n",
       "  </thead>\n",
       "  <tbody>\n",
       "    <tr>\n",
       "      <td>0</td>\n",
       "      <td>2020-01-21</td>\n",
       "      <td>Snohomish</td>\n",
       "      <td>Washington</td>\n",
       "      <td>53061.0</td>\n",
       "      <td>1</td>\n",
       "      <td>0</td>\n",
       "    </tr>\n",
       "    <tr>\n",
       "      <td>1</td>\n",
       "      <td>2020-01-22</td>\n",
       "      <td>Snohomish</td>\n",
       "      <td>Washington</td>\n",
       "      <td>53061.0</td>\n",
       "      <td>1</td>\n",
       "      <td>0</td>\n",
       "    </tr>\n",
       "    <tr>\n",
       "      <td>2</td>\n",
       "      <td>2020-01-23</td>\n",
       "      <td>Snohomish</td>\n",
       "      <td>Washington</td>\n",
       "      <td>53061.0</td>\n",
       "      <td>1</td>\n",
       "      <td>0</td>\n",
       "    </tr>\n",
       "    <tr>\n",
       "      <td>3</td>\n",
       "      <td>2020-01-24</td>\n",
       "      <td>Cook</td>\n",
       "      <td>Illinois</td>\n",
       "      <td>17031.0</td>\n",
       "      <td>1</td>\n",
       "      <td>0</td>\n",
       "    </tr>\n",
       "    <tr>\n",
       "      <td>4</td>\n",
       "      <td>2020-01-24</td>\n",
       "      <td>Snohomish</td>\n",
       "      <td>Washington</td>\n",
       "      <td>53061.0</td>\n",
       "      <td>1</td>\n",
       "      <td>0</td>\n",
       "    </tr>\n",
       "    <tr>\n",
       "      <td>...</td>\n",
       "      <td>...</td>\n",
       "      <td>...</td>\n",
       "      <td>...</td>\n",
       "      <td>...</td>\n",
       "      <td>...</td>\n",
       "      <td>...</td>\n",
       "    </tr>\n",
       "    <tr>\n",
       "      <td>350360</td>\n",
       "      <td>2020-07-19</td>\n",
       "      <td>Sweetwater</td>\n",
       "      <td>Wyoming</td>\n",
       "      <td>56037.0</td>\n",
       "      <td>173</td>\n",
       "      <td>2</td>\n",
       "    </tr>\n",
       "    <tr>\n",
       "      <td>350361</td>\n",
       "      <td>2020-07-19</td>\n",
       "      <td>Teton</td>\n",
       "      <td>Wyoming</td>\n",
       "      <td>56039.0</td>\n",
       "      <td>208</td>\n",
       "      <td>1</td>\n",
       "    </tr>\n",
       "    <tr>\n",
       "      <td>350362</td>\n",
       "      <td>2020-07-19</td>\n",
       "      <td>Uinta</td>\n",
       "      <td>Wyoming</td>\n",
       "      <td>56041.0</td>\n",
       "      <td>221</td>\n",
       "      <td>0</td>\n",
       "    </tr>\n",
       "    <tr>\n",
       "      <td>350363</td>\n",
       "      <td>2020-07-19</td>\n",
       "      <td>Washakie</td>\n",
       "      <td>Wyoming</td>\n",
       "      <td>56043.0</td>\n",
       "      <td>43</td>\n",
       "      <td>5</td>\n",
       "    </tr>\n",
       "    <tr>\n",
       "      <td>350364</td>\n",
       "      <td>2020-07-19</td>\n",
       "      <td>Weston</td>\n",
       "      <td>Wyoming</td>\n",
       "      <td>56045.0</td>\n",
       "      <td>4</td>\n",
       "      <td>0</td>\n",
       "    </tr>\n",
       "  </tbody>\n",
       "</table>\n",
       "<p>350365 rows × 6 columns</p>\n",
       "</div>"
      ],
      "text/plain": [
       "              date      county       state     fips  cases  deaths\n",
       "0       2020-01-21   Snohomish  Washington  53061.0      1       0\n",
       "1       2020-01-22   Snohomish  Washington  53061.0      1       0\n",
       "2       2020-01-23   Snohomish  Washington  53061.0      1       0\n",
       "3       2020-01-24        Cook    Illinois  17031.0      1       0\n",
       "4       2020-01-24   Snohomish  Washington  53061.0      1       0\n",
       "...            ...         ...         ...      ...    ...     ...\n",
       "350360  2020-07-19  Sweetwater     Wyoming  56037.0    173       2\n",
       "350361  2020-07-19       Teton     Wyoming  56039.0    208       1\n",
       "350362  2020-07-19       Uinta     Wyoming  56041.0    221       0\n",
       "350363  2020-07-19    Washakie     Wyoming  56043.0     43       5\n",
       "350364  2020-07-19      Weston     Wyoming  56045.0      4       0\n",
       "\n",
       "[350365 rows x 6 columns]"
      ]
     },
     "execution_count": 1,
     "metadata": {},
     "output_type": "execute_result"
    }
   ],
   "source": [
    "import pandas as pd\n",
    "import numpy as np\n",
    "import matplotlib.pyplot as plt\n",
    "import warnings\n",
    "warnings.simplefilter('ignore')\n",
    "from sklearn.linear_model import LinearRegression\n",
    "from sklearn.feature_selection import f_regression\n",
    "from statsmodels.formula.api import ols\n",
    "\n",
    "url = 'https://raw.githubusercontent.com/nytimes/covid-19-data/master/us-counties.csv'\n",
    "covid = pd.read_csv(url, error_bad_lines=False)\n",
    "covid"
   ]
  },
  {
   "cell_type": "markdown",
   "metadata": {},
   "source": [
    "As one can see from the sample above, the data lists the instances recorded by state governments in which someone has tested positive for coronavirus. In order to make this data easier to work with, we merged the county name with the state name in order to clearly distinguish counties in different states with the same name (ex. Orange County, California and Orange County, Florida) and dropped the fips identifier because it is not used by every county. "
   ]
  },
  {
   "cell_type": "code",
   "execution_count": 2,
   "metadata": {},
   "outputs": [
    {
     "data": {
      "text/html": [
       "<div>\n",
       "<style scoped>\n",
       "    .dataframe tbody tr th:only-of-type {\n",
       "        vertical-align: middle;\n",
       "    }\n",
       "\n",
       "    .dataframe tbody tr th {\n",
       "        vertical-align: top;\n",
       "    }\n",
       "\n",
       "    .dataframe thead th {\n",
       "        text-align: right;\n",
       "    }\n",
       "</style>\n",
       "<table border=\"1\" class=\"dataframe\">\n",
       "  <thead>\n",
       "    <tr style=\"text-align: right;\">\n",
       "      <th></th>\n",
       "      <th>date</th>\n",
       "      <th>county</th>\n",
       "      <th>state</th>\n",
       "      <th>cases</th>\n",
       "      <th>deaths</th>\n",
       "    </tr>\n",
       "  </thead>\n",
       "  <tbody>\n",
       "    <tr>\n",
       "      <td>0</td>\n",
       "      <td>2020-01-21</td>\n",
       "      <td>Snohomish, Washington</td>\n",
       "      <td>Washington</td>\n",
       "      <td>1</td>\n",
       "      <td>0</td>\n",
       "    </tr>\n",
       "    <tr>\n",
       "      <td>1</td>\n",
       "      <td>2020-01-22</td>\n",
       "      <td>Snohomish, Washington</td>\n",
       "      <td>Washington</td>\n",
       "      <td>1</td>\n",
       "      <td>0</td>\n",
       "    </tr>\n",
       "    <tr>\n",
       "      <td>2</td>\n",
       "      <td>2020-01-23</td>\n",
       "      <td>Snohomish, Washington</td>\n",
       "      <td>Washington</td>\n",
       "      <td>1</td>\n",
       "      <td>0</td>\n",
       "    </tr>\n",
       "    <tr>\n",
       "      <td>3</td>\n",
       "      <td>2020-01-24</td>\n",
       "      <td>Cook, Illinois</td>\n",
       "      <td>Illinois</td>\n",
       "      <td>1</td>\n",
       "      <td>0</td>\n",
       "    </tr>\n",
       "    <tr>\n",
       "      <td>4</td>\n",
       "      <td>2020-01-24</td>\n",
       "      <td>Snohomish, Washington</td>\n",
       "      <td>Washington</td>\n",
       "      <td>1</td>\n",
       "      <td>0</td>\n",
       "    </tr>\n",
       "  </tbody>\n",
       "</table>\n",
       "</div>"
      ],
      "text/plain": [
       "         date                 county       state  cases  deaths\n",
       "0  2020-01-21  Snohomish, Washington  Washington      1       0\n",
       "1  2020-01-22  Snohomish, Washington  Washington      1       0\n",
       "2  2020-01-23  Snohomish, Washington  Washington      1       0\n",
       "3  2020-01-24         Cook, Illinois    Illinois      1       0\n",
       "4  2020-01-24  Snohomish, Washington  Washington      1       0"
      ]
     },
     "execution_count": 2,
     "metadata": {},
     "output_type": "execute_result"
    }
   ],
   "source": [
    "# Join county and state column because some counties share a name.\n",
    "# State column is retained because it is useful for comparison.\n",
    "covid['county'] = covid['county'].str.cat(covid['state'],sep=\", \")\n",
    "# Drop fips column because other datasets do not use it as an identifier. \n",
    "covid.drop(['fips'], axis=1, inplace=True)\n",
    "\n",
    "covid.head()"
   ]
  },
  {
   "cell_type": "markdown",
   "metadata": {},
   "source": [
    "## Visualizations"
   ]
  },
  {
   "cell_type": "code",
   "execution_count": 3,
   "metadata": {},
   "outputs": [
    {
     "data": {
      "image/png": "[encoded data removed]",
      "text/plain": [
       "<Figure size 432x288 with 1 Axes>"
      ]
     },
     "metadata": {
      "needs_background": "light"
     },
     "output_type": "display_data"
    },
    {
     "data": {
      "image/png": "[encoded data removed]",
      "text/plain": [
       "<Figure size 432x288 with 1 Axes>"
      ]
     },
     "metadata": {
      "needs_background": "light"
     },
     "output_type": "display_data"
    }
   ],
   "source": [
    "# Calculate total number of cases and deaths for each day. \n",
    "cases = covid.groupby('date', as_index=False)[['cases']].sum()\n",
    "deaths = covid.groupby('date', as_index=False)[['deaths']].sum()\n",
    "\n",
    "# Plot cases and deaths on a single line chart. \n",
    "plt.plot(cases['date'], cases['cases'], label='Cases')\n",
    "plt.plot(deaths['date'], deaths['deaths'], label='Deaths')\n",
    "plt.title('Cases and Deaths vs. Time')\n",
    "plt.xlabel('Date')\n",
    "plt.xticks([covid.date.min(), covid.date.max()])\n",
    "plt.ylabel('Count')\n",
    "plt.legend(loc='upper left')\n",
    "plt.show()\n",
    "\n",
    "# Plot only deaths on a single line chart. \n",
    "plt.plot(deaths['date'], deaths['deaths'])\n",
    "plt.title('Deaths vs. Time')\n",
    "plt.xlabel('Date')\n",
    "plt.xticks([covid.date.min(), covid.date.max()])\n",
    "plt.ylabel('Deaths')\n",
    "plt.show()"
   ]
  },
  {
   "cell_type": "markdown",
   "metadata": {},
   "source": [
    "Create visualizations for counties and states. "
   ]
  },
  {
   "cell_type": "code",
   "execution_count": 4,
   "metadata": {},
   "outputs": [
    {
     "data": {
      "image/png": "[encoded data removed]",
      "text/plain": [
       "<Figure size 432x288 with 1 Axes>"
      ]
     },
     "metadata": {
      "needs_background": "light"
     },
     "output_type": "display_data"
    },
    {
     "data": {
      "image/png": "[encoded data removed]",
      "text/plain": [
       "<Figure size 432x288 with 1 Axes>"
      ]
     },
     "metadata": {
      "needs_background": "light"
     },
     "output_type": "display_data"
    },
    {
     "data": {
      "image/png": "[encoded data removed]",
      "text/plain": [
       "<Figure size 432x288 with 1 Axes>"
      ]
     },
     "metadata": {
      "needs_background": "light"
     },
     "output_type": "display_data"
    },
    {
     "data": {
      "image/png": "[encoded data removed]",
      "text/plain": [
       "<Figure size 432x288 with 1 Axes>"
      ]
     },
     "metadata": {
      "needs_background": "light"
     },
     "output_type": "display_data"
    }
   ],
   "source": [
    "# Select the most current data. \n",
    "covid_current = covid.loc[covid['date'] == covid.date.max()]\n",
    "\n",
    "# Creates top 10 bar chart by county.\n",
    "def top_10_county(measure):\n",
    "    # Get top 10 counties for chosen measure.\n",
    "    bar_chart = covid_current.sort_values(by=measure, ascending=False)\n",
    "    bar_chart = bar_chart.head(10)\n",
    "    # Create bar chart.\n",
    "    plt.barh(bar_chart['county'], bar_chart[measure])\n",
    "    plt.title(measure.capitalize() + ' by County')\n",
    "    plt.xlabel(measure.capitalize())\n",
    "    plt.ylabel('County')\n",
    "    plt.show()\n",
    "    \n",
    "# Creates top 10 bar chart by state.\n",
    "def top_10_state(measure):    \n",
    "    bar_chart = covid_current.groupby('state', as_index=False)[[measure]].sum()\n",
    "    bar_chart = bar_chart.sort_values(by=measure, ascending=False)\n",
    "    bar_chart = bar_chart.head(10)\n",
    "    bar_chart.describe()\n",
    "    # Create bar chart.\n",
    "    plt.barh(bar_chart['state'], bar_chart[measure])\n",
    "    plt.title(measure.capitalize() + ' by State')\n",
    "    plt.xlabel(measure.capitalize())\n",
    "    plt.ylabel('County')\n",
    "    plt.show() \n",
    "    \n",
    "# Top 10 cases and deaths for states and counties. \n",
    "top_10_state('cases')\n",
    "top_10_county('cases')\n",
    "top_10_state('deaths')\n",
    "top_10_county('deaths')"
   ]
  },
  {
   "cell_type": "markdown",
   "metadata": {},
   "source": [
    "# Linear Regression by State"
   ]
  },
  {
   "cell_type": "code",
   "execution_count": 5,
   "metadata": {},
   "outputs": [
    {
     "data": {
      "text/html": [
       "<div>\n",
       "<style scoped>\n",
       "    .dataframe tbody tr th:only-of-type {\n",
       "        vertical-align: middle;\n",
       "    }\n",
       "\n",
       "    .dataframe tbody tr th {\n",
       "        vertical-align: top;\n",
       "    }\n",
       "\n",
       "    .dataframe thead th {\n",
       "        text-align: right;\n",
       "    }\n",
       "</style>\n",
       "<table border=\"1\" class=\"dataframe\">\n",
       "  <thead>\n",
       "    <tr style=\"text-align: right;\">\n",
       "      <th></th>\n",
       "      <th>state</th>\n",
       "      <th>cases</th>\n",
       "    </tr>\n",
       "  </thead>\n",
       "  <tbody>\n",
       "    <tr>\n",
       "      <td>0</td>\n",
       "      <td>Alabama</td>\n",
       "      <td>2282500</td>\n",
       "    </tr>\n",
       "    <tr>\n",
       "      <td>1</td>\n",
       "      <td>Alaska</td>\n",
       "      <td>75804</td>\n",
       "    </tr>\n",
       "    <tr>\n",
       "      <td>2</td>\n",
       "      <td>Arizona</td>\n",
       "      <td>4035504</td>\n",
       "    </tr>\n",
       "    <tr>\n",
       "      <td>3</td>\n",
       "      <td>Arkansas</td>\n",
       "      <td>1123410</td>\n",
       "    </tr>\n",
       "    <tr>\n",
       "      <td>4</td>\n",
       "      <td>California</td>\n",
       "      <td>14260987</td>\n",
       "    </tr>\n",
       "  </tbody>\n",
       "</table>\n",
       "</div>"
      ],
      "text/plain": [
       "        state     cases\n",
       "0     Alabama   2282500\n",
       "1      Alaska     75804\n",
       "2     Arizona   4035504\n",
       "3    Arkansas   1123410\n",
       "4  California  14260987"
      ]
     },
     "execution_count": 5,
     "metadata": {},
     "output_type": "execute_result"
    }
   ],
   "source": [
    "# D.C., Guam, Northern Mariana Islands, Puerto Rico, and Virign Islands account for the 5 extra rows.\n",
    "groups = covid.groupby('state')\n",
    "state_list = []\n",
    "s_names = []\n",
    "for state, g in groups:\n",
    "    state_list.append(g)\n",
    "    s_names.append(state)\n",
    "\n",
    "# Calculate total cases for each state.\n",
    "cases = {}\n",
    "for i, state in enumerate(state_list):\n",
    "    total = state['cases'].sum()\n",
    "    cases[s_names[i]] = total\n",
    "# Create dataframe for total cases by state. \n",
    "simple_df = pd.DataFrame(list(cases.items()),columns = ['state','cases'])\n",
    "simple_df.head()"
   ]
  },
  {
   "cell_type": "markdown",
   "metadata": {},
   "source": [
    "## Explain this scraping. "
   ]
  },
  {
   "cell_type": "code",
   "execution_count": 6,
   "metadata": {},
   "outputs": [
    {
     "data": {
      "text/plain": [
       "[   Rank           State  July 2019 Estimate Percent of Total\n",
       " 0     1      California            39512223           11.91%\n",
       " 1     2           Texas            28995881            8.74%\n",
       " 2     3         Florida            21477737            6.47%\n",
       " 3     4        New York            19453561            5.86%\n",
       " 4     5        Illinois            12671821            3.86%\n",
       " 5     6    Pennsylvania            12801989            3.82%\n",
       " 6     7            Ohio            11689100            3.52%\n",
       " 7     8         Georgia            10617423            3.20%\n",
       " 8     9  North Carolina            10488084            3.16%\n",
       " 9    10        Michigan             9986857            3.01%\n",
       " 10   11      New Jersey             8882190            2.68%\n",
       " 11   12        Virginia             8535519            2.57%\n",
       " 12   13      Washington             7614893            2.29%\n",
       " 13   14         Arizona             7278717            2.19%\n",
       " 14   15   Massachusetts             6949503            2.09%\n",
       " 15   16       Tennessee             6833174            2.06%\n",
       " 16   17         Indiana             6732219            2.03%\n",
       " 17   18        Missouri             6137428            1.85%\n",
       " 18   19        Maryland             6045680            1.82%\n",
       " 19   20       Wisconsin             5822434            1.75%\n",
       " 20   21        Colorado             5758736            1.74%\n",
       " 21   22       Minnesota             5639632            1.70%\n",
       " 22   23  South Carolina             5148714            1.55%\n",
       " 23   24         Alabama             4903185            1.48%\n",
       " 24   25       Louisiana             4648794            1.40%\n",
       " 25   26        Kentucky             4467673            1.35%\n",
       " 26   27          Oregon             4217737            1.27%\n",
       " 27   28        Oklahoma             3956971            1.19%\n",
       " 28   29     Connecticut             3565287            1.07%\n",
       " 29   30            Utah             3205958            0.97%\n",
       " 30   31            Iowa             3155070            0.95%\n",
       " 31   32          Nevada             3080156            0.93%\n",
       " 32   33        Arkansas             3017825            0.91%\n",
       " 33   34     Mississippi             2976149            0.90%\n",
       " 34   35          Kansas             2913314            0.88%\n",
       " 35   36      New Mexico             2096829            0.63%\n",
       " 36   37        Nebraska             1934408            0.58%\n",
       " 37   38   West Virginia             1792147            0.54%\n",
       " 38   39           Idaho             1787065            0.54%\n",
       " 39   40          Hawaii             1415872            0.43%\n",
       " 40   41   New Hampshire             1359711            0.41%\n",
       " 41   42           Maine             1344212            0.41%\n",
       " 42   43         Montana             1068778            0.32%\n",
       " 43   44    Rhode Island             1059361            0.32%\n",
       " 44   45        Delaware              973764            0.29%\n",
       " 45   46    South Dakota              884659            0.27%\n",
       " 46   47    North Dakota              762062            0.23%\n",
       " 47   48          Alaska              731545            0.22%\n",
       " 48   49              DC              705749            0.21%\n",
       " 49   50         Vermont              623989            0.19%\n",
       " 50   51         Wyoming              578759            0.17%\n",
       " 51    Â      Total U.S.           321418820                Â]"
      ]
     },
     "execution_count": 6,
     "metadata": {},
     "output_type": "execute_result"
    }
   ],
   "source": [
    "# Scrape population data by state from website.\n",
    "pop_list = pd.read_html(\"https://www.infoplease.com/us/states/state-population-by-rank\")\n",
    "pop_list"
   ]
  },
  {
   "cell_type": "markdown",
   "metadata": {},
   "source": [
    "## Processing"
   ]
  },
  {
   "cell_type": "code",
   "execution_count": 7,
   "metadata": {},
   "outputs": [
    {
     "data": {
      "text/html": [
       "<div>\n",
       "<style scoped>\n",
       "    .dataframe tbody tr th:only-of-type {\n",
       "        vertical-align: middle;\n",
       "    }\n",
       "\n",
       "    .dataframe tbody tr th {\n",
       "        vertical-align: top;\n",
       "    }\n",
       "\n",
       "    .dataframe thead th {\n",
       "        text-align: right;\n",
       "    }\n",
       "</style>\n",
       "<table border=\"1\" class=\"dataframe\">\n",
       "  <thead>\n",
       "    <tr style=\"text-align: right;\">\n",
       "      <th></th>\n",
       "      <th>rank</th>\n",
       "      <th>state</th>\n",
       "      <th>pop</th>\n",
       "      <th>cases</th>\n",
       "    </tr>\n",
       "  </thead>\n",
       "  <tbody>\n",
       "    <tr>\n",
       "      <td>0</td>\n",
       "      <td>1</td>\n",
       "      <td>California</td>\n",
       "      <td>39512223</td>\n",
       "      <td>14260987</td>\n",
       "    </tr>\n",
       "    <tr>\n",
       "      <td>1</td>\n",
       "      <td>2</td>\n",
       "      <td>Texas</td>\n",
       "      <td>28995881</td>\n",
       "      <td>9838629</td>\n",
       "    </tr>\n",
       "    <tr>\n",
       "      <td>2</td>\n",
       "      <td>3</td>\n",
       "      <td>Florida</td>\n",
       "      <td>21477737</td>\n",
       "      <td>9488828</td>\n",
       "    </tr>\n",
       "    <tr>\n",
       "      <td>3</td>\n",
       "      <td>4</td>\n",
       "      <td>New York</td>\n",
       "      <td>19453561</td>\n",
       "      <td>36999340</td>\n",
       "    </tr>\n",
       "    <tr>\n",
       "      <td>4</td>\n",
       "      <td>5</td>\n",
       "      <td>Illinois</td>\n",
       "      <td>12671821</td>\n",
       "      <td>10603152</td>\n",
       "    </tr>\n",
       "  </tbody>\n",
       "</table>\n",
       "</div>"
      ],
      "text/plain": [
       "  rank       state       pop     cases\n",
       "0    1  California  39512223  14260987\n",
       "1    2       Texas  28995881   9838629\n",
       "2    3     Florida  21477737   9488828\n",
       "3    4    New York  19453561  36999340\n",
       "4    5    Illinois  12671821  10603152"
      ]
     },
     "execution_count": 7,
     "metadata": {},
     "output_type": "execute_result"
    }
   ],
   "source": [
    "# Create dataframe for population by state.\n",
    "pop_df = pop_list[0]\n",
    "pop_df.columns = ['rank', 'state', 'pop', 'percent of total pop']\n",
    "\n",
    "# Merge dataframes into a dataframe for population and cases by state. \n",
    "covid_pop = pd.merge(left=pop_df, right=simple_df, left_on='state', right_on='state')\n",
    "covid_pop = covid_pop.drop(columns=['percent of total pop'])\n",
    "\n",
    "covid_pop.head()"
   ]
  },
  {
   "cell_type": "markdown",
   "metadata": {},
   "source": [
    "## Explain model"
   ]
  },
  {
   "cell_type": "code",
   "execution_count": 8,
   "metadata": {},
   "outputs": [
    {
     "data": {
      "image/png": "[encoded data removed]",
      "text/plain": [
       "<Figure size 432x288 with 1 Axes>"
      ]
     },
     "metadata": {
      "needs_background": "light"
     },
     "output_type": "display_data"
    },
    {
     "name": "stdout",
     "output_type": "stream",
     "text": [
      "Predicted Cases = 0.539778292185303 * Population + 286774.6205221107\n",
      "p-value: 1.260797666030277e-07\n"
     ]
    }
   ],
   "source": [
    "# Create linear regression model.\n",
    "pop = covid_pop['pop'].values.reshape(-1,1)\n",
    "cases = covid_pop['cases'].values.reshape(-1,1)\n",
    "model = LinearRegression()\n",
    "model.fit(pop, cases)\n",
    "predicted = model.predict(pop)\n",
    "# Calculate p-value.A small p-value indicates strong evidence against the null hypothesis.\n",
    "F = f_regression(pop, cases, center=True)\n",
    "\n",
    "# Create scatterplot for cases across population by state. \n",
    "plt.plot(pop,predicted, color='orange')\n",
    "plt.scatter(pop, cases)\n",
    "plt.title(\"Cases vs. Population by State\")\n",
    "plt.xlabel('Population')\n",
    "plt.ylabel('Cases')\n",
    "plt.show()\n",
    "# Print fitted model.\n",
    "print('Predicted Cases = ' + str(model.coef_[0][0]) + ' * Population + ' + str(model.intercept_[0]))\n",
    "print('p-value: '+ str(F[1][0]))"
   ]
  },
  {
   "cell_type": "markdown",
   "metadata": {},
   "source": [
    "## Analysis of Model"
   ]
  },
  {
   "cell_type": "markdown",
   "metadata": {},
   "source": [
    "# Linear Regression by County"
   ]
  },
  {
   "cell_type": "markdown",
   "metadata": {},
   "source": [
    "https://www.census.gov/data/datasets/time-series/demo/popest/2010s-counties-total.html"
   ]
  },
  {
   "cell_type": "code",
   "execution_count": 9,
   "metadata": {},
   "outputs": [
    {
     "data": {
      "text/html": [
       "<div>\n",
       "<style scoped>\n",
       "    .dataframe tbody tr th:only-of-type {\n",
       "        vertical-align: middle;\n",
       "    }\n",
       "\n",
       "    .dataframe tbody tr th {\n",
       "        vertical-align: top;\n",
       "    }\n",
       "\n",
       "    .dataframe thead th {\n",
       "        text-align: right;\n",
       "    }\n",
       "</style>\n",
       "<table border=\"1\" class=\"dataframe\">\n",
       "  <thead>\n",
       "    <tr style=\"text-align: right;\">\n",
       "      <th></th>\n",
       "      <th>County</th>\n",
       "      <th>2010</th>\n",
       "      <th>2011</th>\n",
       "      <th>2012</th>\n",
       "      <th>2013</th>\n",
       "      <th>2014</th>\n",
       "      <th>2015</th>\n",
       "      <th>2016</th>\n",
       "      <th>2017</th>\n",
       "      <th>2018</th>\n",
       "      <th>2019</th>\n",
       "    </tr>\n",
       "  </thead>\n",
       "  <tbody>\n",
       "    <tr>\n",
       "      <td>0</td>\n",
       "      <td>.Autauga County, Alabama</td>\n",
       "      <td>54773.0</td>\n",
       "      <td>55227.0</td>\n",
       "      <td>54954.0</td>\n",
       "      <td>54727.0</td>\n",
       "      <td>54893.0</td>\n",
       "      <td>54864.0</td>\n",
       "      <td>55243.0</td>\n",
       "      <td>55390.0</td>\n",
       "      <td>55533.0</td>\n",
       "      <td>55869.0</td>\n",
       "    </tr>\n",
       "    <tr>\n",
       "      <td>1</td>\n",
       "      <td>.Baldwin County, Alabama</td>\n",
       "      <td>183112.0</td>\n",
       "      <td>186558.0</td>\n",
       "      <td>190145.0</td>\n",
       "      <td>194885.0</td>\n",
       "      <td>199183.0</td>\n",
       "      <td>202939.0</td>\n",
       "      <td>207601.0</td>\n",
       "      <td>212521.0</td>\n",
       "      <td>217855.0</td>\n",
       "      <td>223234.0</td>\n",
       "    </tr>\n",
       "    <tr>\n",
       "      <td>2</td>\n",
       "      <td>.Barbour County, Alabama</td>\n",
       "      <td>27327.0</td>\n",
       "      <td>27341.0</td>\n",
       "      <td>27169.0</td>\n",
       "      <td>26937.0</td>\n",
       "      <td>26755.0</td>\n",
       "      <td>26283.0</td>\n",
       "      <td>25806.0</td>\n",
       "      <td>25157.0</td>\n",
       "      <td>24872.0</td>\n",
       "      <td>24686.0</td>\n",
       "    </tr>\n",
       "    <tr>\n",
       "      <td>3</td>\n",
       "      <td>.Bibb County, Alabama</td>\n",
       "      <td>22870.0</td>\n",
       "      <td>22745.0</td>\n",
       "      <td>22667.0</td>\n",
       "      <td>22521.0</td>\n",
       "      <td>22553.0</td>\n",
       "      <td>22566.0</td>\n",
       "      <td>22586.0</td>\n",
       "      <td>22550.0</td>\n",
       "      <td>22367.0</td>\n",
       "      <td>22394.0</td>\n",
       "    </tr>\n",
       "    <tr>\n",
       "      <td>4</td>\n",
       "      <td>.Blount County, Alabama</td>\n",
       "      <td>57376.0</td>\n",
       "      <td>57560.0</td>\n",
       "      <td>57580.0</td>\n",
       "      <td>57619.0</td>\n",
       "      <td>57526.0</td>\n",
       "      <td>57526.0</td>\n",
       "      <td>57494.0</td>\n",
       "      <td>57787.0</td>\n",
       "      <td>57771.0</td>\n",
       "      <td>57826.0</td>\n",
       "    </tr>\n",
       "  </tbody>\n",
       "</table>\n",
       "</div>"
      ],
      "text/plain": [
       "                     County      2010      2011      2012      2013      2014  \\\n",
       "0  .Autauga County, Alabama   54773.0   55227.0   54954.0   54727.0   54893.0   \n",
       "1  .Baldwin County, Alabama  183112.0  186558.0  190145.0  194885.0  199183.0   \n",
       "2  .Barbour County, Alabama   27327.0   27341.0   27169.0   26937.0   26755.0   \n",
       "3     .Bibb County, Alabama   22870.0   22745.0   22667.0   22521.0   22553.0   \n",
       "4   .Blount County, Alabama   57376.0   57560.0   57580.0   57619.0   57526.0   \n",
       "\n",
       "       2015      2016      2017      2018      2019  \n",
       "0   54864.0   55243.0   55390.0   55533.0   55869.0  \n",
       "1  202939.0  207601.0  212521.0  217855.0  223234.0  \n",
       "2   26283.0   25806.0   25157.0   24872.0   24686.0  \n",
       "3   22566.0   22586.0   22550.0   22367.0   22394.0  \n",
       "4   57526.0   57494.0   57787.0   57771.0   57826.0  "
      ]
     },
     "execution_count": 9,
     "metadata": {},
     "output_type": "execute_result"
    }
   ],
   "source": [
    "# Read census from xlsx.\n",
    "census = pd.read_excel('co-est2019-annres.xlsx')\n",
    "census.head()"
   ]
  },
  {
   "cell_type": "markdown",
   "metadata": {},
   "source": [
    "## Explain preprocessing"
   ]
  },
  {
   "cell_type": "code",
   "execution_count": 10,
   "metadata": {},
   "outputs": [
    {
     "data": {
      "text/html": [
       "<div>\n",
       "<style scoped>\n",
       "    .dataframe tbody tr th:only-of-type {\n",
       "        vertical-align: middle;\n",
       "    }\n",
       "\n",
       "    .dataframe tbody tr th {\n",
       "        vertical-align: top;\n",
       "    }\n",
       "\n",
       "    .dataframe thead th {\n",
       "        text-align: right;\n",
       "    }\n",
       "</style>\n",
       "<table border=\"1\" class=\"dataframe\">\n",
       "  <thead>\n",
       "    <tr style=\"text-align: right;\">\n",
       "      <th></th>\n",
       "      <th>county</th>\n",
       "      <th>state</th>\n",
       "      <th>2010</th>\n",
       "      <th>2011</th>\n",
       "      <th>2012</th>\n",
       "      <th>2013</th>\n",
       "      <th>2014</th>\n",
       "      <th>2015</th>\n",
       "      <th>2016</th>\n",
       "      <th>2017</th>\n",
       "      <th>2018</th>\n",
       "      <th>2019</th>\n",
       "    </tr>\n",
       "  </thead>\n",
       "  <tbody>\n",
       "    <tr>\n",
       "      <td>0</td>\n",
       "      <td>Autauga, Alabama</td>\n",
       "      <td>Alabama</td>\n",
       "      <td>54773.0</td>\n",
       "      <td>55227.0</td>\n",
       "      <td>54954.0</td>\n",
       "      <td>54727.0</td>\n",
       "      <td>54893.0</td>\n",
       "      <td>54864.0</td>\n",
       "      <td>55243.0</td>\n",
       "      <td>55390.0</td>\n",
       "      <td>55533.0</td>\n",
       "      <td>55869.0</td>\n",
       "    </tr>\n",
       "    <tr>\n",
       "      <td>1</td>\n",
       "      <td>Baldwin, Alabama</td>\n",
       "      <td>Alabama</td>\n",
       "      <td>183112.0</td>\n",
       "      <td>186558.0</td>\n",
       "      <td>190145.0</td>\n",
       "      <td>194885.0</td>\n",
       "      <td>199183.0</td>\n",
       "      <td>202939.0</td>\n",
       "      <td>207601.0</td>\n",
       "      <td>212521.0</td>\n",
       "      <td>217855.0</td>\n",
       "      <td>223234.0</td>\n",
       "    </tr>\n",
       "    <tr>\n",
       "      <td>2</td>\n",
       "      <td>Barbour, Alabama</td>\n",
       "      <td>Alabama</td>\n",
       "      <td>27327.0</td>\n",
       "      <td>27341.0</td>\n",
       "      <td>27169.0</td>\n",
       "      <td>26937.0</td>\n",
       "      <td>26755.0</td>\n",
       "      <td>26283.0</td>\n",
       "      <td>25806.0</td>\n",
       "      <td>25157.0</td>\n",
       "      <td>24872.0</td>\n",
       "      <td>24686.0</td>\n",
       "    </tr>\n",
       "    <tr>\n",
       "      <td>3</td>\n",
       "      <td>Bibb, Alabama</td>\n",
       "      <td>Alabama</td>\n",
       "      <td>22870.0</td>\n",
       "      <td>22745.0</td>\n",
       "      <td>22667.0</td>\n",
       "      <td>22521.0</td>\n",
       "      <td>22553.0</td>\n",
       "      <td>22566.0</td>\n",
       "      <td>22586.0</td>\n",
       "      <td>22550.0</td>\n",
       "      <td>22367.0</td>\n",
       "      <td>22394.0</td>\n",
       "    </tr>\n",
       "    <tr>\n",
       "      <td>4</td>\n",
       "      <td>Blount, Alabama</td>\n",
       "      <td>Alabama</td>\n",
       "      <td>57376.0</td>\n",
       "      <td>57560.0</td>\n",
       "      <td>57580.0</td>\n",
       "      <td>57619.0</td>\n",
       "      <td>57526.0</td>\n",
       "      <td>57526.0</td>\n",
       "      <td>57494.0</td>\n",
       "      <td>57787.0</td>\n",
       "      <td>57771.0</td>\n",
       "      <td>57826.0</td>\n",
       "    </tr>\n",
       "  </tbody>\n",
       "</table>\n",
       "</div>"
      ],
      "text/plain": [
       "             county    state      2010      2011      2012      2013  \\\n",
       "0  Autauga, Alabama  Alabama   54773.0   55227.0   54954.0   54727.0   \n",
       "1  Baldwin, Alabama  Alabama  183112.0  186558.0  190145.0  194885.0   \n",
       "2  Barbour, Alabama  Alabama   27327.0   27341.0   27169.0   26937.0   \n",
       "3     Bibb, Alabama  Alabama   22870.0   22745.0   22667.0   22521.0   \n",
       "4   Blount, Alabama  Alabama   57376.0   57560.0   57580.0   57619.0   \n",
       "\n",
       "       2014      2015      2016      2017      2018      2019  \n",
       "0   54893.0   54864.0   55243.0   55390.0   55533.0   55869.0  \n",
       "1  199183.0  202939.0  207601.0  212521.0  217855.0  223234.0  \n",
       "2   26755.0   26283.0   25806.0   25157.0   24872.0   24686.0  \n",
       "3   22553.0   22566.0   22586.0   22550.0   22367.0   22394.0  \n",
       "4   57526.0   57526.0   57494.0   57787.0   57771.0   57826.0  "
      ]
     },
     "execution_count": 10,
     "metadata": {},
     "output_type": "execute_result"
    }
   ],
   "source": [
    "# Drop NaN columns (all footnotes).\n",
    "census = census.dropna()\n",
    "\n",
    "# Format county to match the COVID Dataset. \n",
    "census.rename(columns={'County':'county'}, inplace=True)\n",
    "census['county'] = census['county'].str.replace('.','')\n",
    "census['county'] = census['county'].str.replace(' County','')\n",
    "# Add state column to match the COVID Dataset.\n",
    "census['state'] = census['county'].str.partition(', ')[2] \n",
    "# Reorder columns.\n",
    "census = census[['county','state',2010,2011,2012,2013,2014,2015,2016,2017,2018,2019]]\n",
    "\n",
    "census.head()"
   ]
  },
  {
   "cell_type": "markdown",
   "metadata": {},
   "source": [
    "## Explain cc_current"
   ]
  },
  {
   "cell_type": "code",
   "execution_count": 11,
   "metadata": {},
   "outputs": [
    {
     "data": {
      "text/html": [
       "<div>\n",
       "<style scoped>\n",
       "    .dataframe tbody tr th:only-of-type {\n",
       "        vertical-align: middle;\n",
       "    }\n",
       "\n",
       "    .dataframe tbody tr th {\n",
       "        vertical-align: top;\n",
       "    }\n",
       "\n",
       "    .dataframe thead th {\n",
       "        text-align: right;\n",
       "    }\n",
       "</style>\n",
       "<table border=\"1\" class=\"dataframe\">\n",
       "  <thead>\n",
       "    <tr style=\"text-align: right;\">\n",
       "      <th></th>\n",
       "      <th>county</th>\n",
       "      <th>state</th>\n",
       "      <th>population</th>\n",
       "      <th>cases</th>\n",
       "      <th>deaths</th>\n",
       "    </tr>\n",
       "  </thead>\n",
       "  <tbody>\n",
       "    <tr>\n",
       "      <td>0</td>\n",
       "      <td>Abbeville, South Carolina</td>\n",
       "      <td>South Carolina</td>\n",
       "      <td>24527.0</td>\n",
       "      <td>190</td>\n",
       "      <td>2</td>\n",
       "    </tr>\n",
       "    <tr>\n",
       "      <td>1</td>\n",
       "      <td>Accomack, Virginia</td>\n",
       "      <td>Virginia</td>\n",
       "      <td>32316.0</td>\n",
       "      <td>1052</td>\n",
       "      <td>15</td>\n",
       "    </tr>\n",
       "    <tr>\n",
       "      <td>2</td>\n",
       "      <td>Ada, Idaho</td>\n",
       "      <td>Idaho</td>\n",
       "      <td>481587.0</td>\n",
       "      <td>5900</td>\n",
       "      <td>32</td>\n",
       "    </tr>\n",
       "    <tr>\n",
       "      <td>3</td>\n",
       "      <td>Adair, Iowa</td>\n",
       "      <td>Iowa</td>\n",
       "      <td>7152.0</td>\n",
       "      <td>20</td>\n",
       "      <td>0</td>\n",
       "    </tr>\n",
       "    <tr>\n",
       "      <td>4</td>\n",
       "      <td>Adair, Kentucky</td>\n",
       "      <td>Kentucky</td>\n",
       "      <td>19202.0</td>\n",
       "      <td>176</td>\n",
       "      <td>19</td>\n",
       "    </tr>\n",
       "  </tbody>\n",
       "</table>\n",
       "</div>"
      ],
      "text/plain": [
       "                      county           state  population  cases  deaths\n",
       "0  Abbeville, South Carolina  South Carolina     24527.0    190       2\n",
       "1         Accomack, Virginia        Virginia     32316.0   1052      15\n",
       "2                 Ada, Idaho           Idaho    481587.0   5900      32\n",
       "3                Adair, Iowa            Iowa      7152.0     20       0\n",
       "4            Adair, Kentucky        Kentucky     19202.0    176      19"
      ]
     },
     "execution_count": 11,
     "metadata": {},
     "output_type": "execute_result"
    }
   ],
   "source": [
    "# Build current dataset for covid and census.\n",
    "# Only use census data from this year.\n",
    "cc_current = census[['county', 'state', 2019]]\n",
    "cc_current = cc_current.rename(columns={2019:'population'})\n",
    "\n",
    "# Select all counties that appear in both datasets.\n",
    "covid_current['county'] = covid_current['county'].str.replace(' Parish','')\n",
    "covid_current = covid_current[covid_current['county'].isin(census.county.unique())]\n",
    "cc_current = cc_current[cc_current['county'].isin(covid_current.county.unique())]\n",
    "\n",
    "# Alphabetize by county.\n",
    "covid_current = covid_current.sort_values(by='county')\n",
    "covid_current.reset_index(inplace=True,drop=True)\n",
    "cc_current.sort_values(by='county', inplace=True)\n",
    "cc_current.reset_index(inplace=True,drop=True)\n",
    "\n",
    "# Add cases and deaths to current dataset. \n",
    "cc_current['cases'] = covid_current['cases']\n",
    "cc_current['deaths'] = covid_current['deaths']\n",
    "\n",
    "cc_current.head()"
   ]
  },
  {
   "cell_type": "markdown",
   "metadata": {},
   "source": [
    "## Explain Model"
   ]
  },
  {
   "cell_type": "code",
   "execution_count": 12,
   "metadata": {},
   "outputs": [
    {
     "data": {
      "image/png": "[encoded data removed]",
      "text/plain": [
       "<Figure size 432x288 with 1 Axes>"
      ]
     },
     "metadata": {
      "needs_background": "light"
     },
     "output_type": "display_data"
    },
    {
     "name": "stdout",
     "output_type": "stream",
     "text": [
      "Predicted Cases = 0.014616688001602053 * Population + -379.5253056632839\n",
      "p-value: 0.0\n"
     ]
    }
   ],
   "source": [
    "# Model cases across population\n",
    "X = pd.DataFrame(cc_current['population'])\n",
    "y = pd.DataFrame(cc_current['cases'])\n",
    "# Create linear regression model.\n",
    "model = LinearRegression()\n",
    "model.fit(X, y)\n",
    "coef = model.coef_[0][0]\n",
    "intercept = model.intercept_[0]\n",
    "# Calculate p-value.A small p-value indicates strong evidence against the null hypothesis.\n",
    "F = f_regression(X, y.values.ravel(), center=True)\n",
    "\n",
    "# Create scatterplot of cases vs. population.\n",
    "plt.scatter(cc_current['population'], cc_current['cases'])\n",
    "plt.title('Cases vs. Population by County')\n",
    "plt.xlabel('Population')\n",
    "plt.ylabel('Cases')\n",
    "# Plot regression line\n",
    "plt.plot(cc_current['population'], coef * cc_current['population'] + intercept,  color='orange')\n",
    "plt.show()\n",
    "# Print fitted model.\n",
    "print('Predicted Cases = ' + str(coef) + ' * Population + ' + str(intercept))\n",
    "print('p-value: '+ str(F[1][0]))"
   ]
  },
  {
   "cell_type": "markdown",
   "metadata": {},
   "source": [
    "## Analysis of Model"
   ]
  },
  {
   "cell_type": "markdown",
   "metadata": {},
   "source": [
    "## Maryland only"
   ]
  },
  {
   "cell_type": "code",
   "execution_count": 13,
   "metadata": {},
   "outputs": [
    {
     "data": {
      "text/html": [
       "<div>\n",
       "<style scoped>\n",
       "    .dataframe tbody tr th:only-of-type {\n",
       "        vertical-align: middle;\n",
       "    }\n",
       "\n",
       "    .dataframe tbody tr th {\n",
       "        vertical-align: top;\n",
       "    }\n",
       "\n",
       "    .dataframe thead th {\n",
       "        text-align: right;\n",
       "    }\n",
       "</style>\n",
       "<table border=\"1\" class=\"dataframe\">\n",
       "  <thead>\n",
       "    <tr style=\"text-align: right;\">\n",
       "      <th></th>\n",
       "      <th>county</th>\n",
       "      <th>state</th>\n",
       "      <th>population</th>\n",
       "      <th>cases</th>\n",
       "      <th>deaths</th>\n",
       "    </tr>\n",
       "  </thead>\n",
       "  <tbody>\n",
       "    <tr>\n",
       "      <td>0</td>\n",
       "      <td>Allegany, Maryland</td>\n",
       "      <td>Maryland</td>\n",
       "      <td>70416.0</td>\n",
       "      <td>237</td>\n",
       "      <td>18</td>\n",
       "    </tr>\n",
       "    <tr>\n",
       "      <td>1</td>\n",
       "      <td>Anne Arundel, Maryland</td>\n",
       "      <td>Maryland</td>\n",
       "      <td>579234.0</td>\n",
       "      <td>5963</td>\n",
       "      <td>213</td>\n",
       "    </tr>\n",
       "    <tr>\n",
       "      <td>2</td>\n",
       "      <td>Baltimore city, Maryland</td>\n",
       "      <td>Maryland</td>\n",
       "      <td>593490.0</td>\n",
       "      <td>9442</td>\n",
       "      <td>382</td>\n",
       "    </tr>\n",
       "    <tr>\n",
       "      <td>3</td>\n",
       "      <td>Baltimore, Maryland</td>\n",
       "      <td>Maryland</td>\n",
       "      <td>827370.0</td>\n",
       "      <td>9743</td>\n",
       "      <td>510</td>\n",
       "    </tr>\n",
       "    <tr>\n",
       "      <td>4</td>\n",
       "      <td>Calvert, Maryland</td>\n",
       "      <td>Maryland</td>\n",
       "      <td>92525.0</td>\n",
       "      <td>491</td>\n",
       "      <td>27</td>\n",
       "    </tr>\n",
       "    <tr>\n",
       "      <td>5</td>\n",
       "      <td>Caroline, Maryland</td>\n",
       "      <td>Maryland</td>\n",
       "      <td>33406.0</td>\n",
       "      <td>360</td>\n",
       "      <td>3</td>\n",
       "    </tr>\n",
       "    <tr>\n",
       "      <td>6</td>\n",
       "      <td>Carroll, Maryland</td>\n",
       "      <td>Maryland</td>\n",
       "      <td>168447.0</td>\n",
       "      <td>1272</td>\n",
       "      <td>116</td>\n",
       "    </tr>\n",
       "    <tr>\n",
       "      <td>7</td>\n",
       "      <td>Cecil, Maryland</td>\n",
       "      <td>Maryland</td>\n",
       "      <td>102855.0</td>\n",
       "      <td>554</td>\n",
       "      <td>29</td>\n",
       "    </tr>\n",
       "    <tr>\n",
       "      <td>8</td>\n",
       "      <td>Charles, Maryland</td>\n",
       "      <td>Maryland</td>\n",
       "      <td>163257.0</td>\n",
       "      <td>1611</td>\n",
       "      <td>90</td>\n",
       "    </tr>\n",
       "    <tr>\n",
       "      <td>9</td>\n",
       "      <td>Dorchester, Maryland</td>\n",
       "      <td>Maryland</td>\n",
       "      <td>31929.0</td>\n",
       "      <td>245</td>\n",
       "      <td>5</td>\n",
       "    </tr>\n",
       "    <tr>\n",
       "      <td>10</td>\n",
       "      <td>Frederick, Maryland</td>\n",
       "      <td>Maryland</td>\n",
       "      <td>259547.0</td>\n",
       "      <td>2729</td>\n",
       "      <td>120</td>\n",
       "    </tr>\n",
       "    <tr>\n",
       "      <td>11</td>\n",
       "      <td>Garrett, Maryland</td>\n",
       "      <td>Maryland</td>\n",
       "      <td>29014.0</td>\n",
       "      <td>34</td>\n",
       "      <td>0</td>\n",
       "    </tr>\n",
       "    <tr>\n",
       "      <td>12</td>\n",
       "      <td>Harford, Maryland</td>\n",
       "      <td>Maryland</td>\n",
       "      <td>255441.0</td>\n",
       "      <td>1415</td>\n",
       "      <td>66</td>\n",
       "    </tr>\n",
       "    <tr>\n",
       "      <td>13</td>\n",
       "      <td>Howard, Maryland</td>\n",
       "      <td>Maryland</td>\n",
       "      <td>325690.0</td>\n",
       "      <td>3103</td>\n",
       "      <td>98</td>\n",
       "    </tr>\n",
       "    <tr>\n",
       "      <td>14</td>\n",
       "      <td>Kent, Maryland</td>\n",
       "      <td>Maryland</td>\n",
       "      <td>19422.0</td>\n",
       "      <td>222</td>\n",
       "      <td>23</td>\n",
       "    </tr>\n",
       "    <tr>\n",
       "      <td>15</td>\n",
       "      <td>Montgomery, Maryland</td>\n",
       "      <td>Maryland</td>\n",
       "      <td>1050688.0</td>\n",
       "      <td>16410</td>\n",
       "      <td>768</td>\n",
       "    </tr>\n",
       "    <tr>\n",
       "      <td>16</td>\n",
       "      <td>Prince George's, Maryland</td>\n",
       "      <td>Maryland</td>\n",
       "      <td>909327.0</td>\n",
       "      <td>21050</td>\n",
       "      <td>723</td>\n",
       "    </tr>\n",
       "    <tr>\n",
       "      <td>17</td>\n",
       "      <td>Queen Anne's, Maryland</td>\n",
       "      <td>Maryland</td>\n",
       "      <td>50381.0</td>\n",
       "      <td>319</td>\n",
       "      <td>23</td>\n",
       "    </tr>\n",
       "    <tr>\n",
       "      <td>18</td>\n",
       "      <td>Somerset, Maryland</td>\n",
       "      <td>Maryland</td>\n",
       "      <td>25616.0</td>\n",
       "      <td>108</td>\n",
       "      <td>3</td>\n",
       "    </tr>\n",
       "    <tr>\n",
       "      <td>19</td>\n",
       "      <td>Talbot, Maryland</td>\n",
       "      <td>Maryland</td>\n",
       "      <td>37181.0</td>\n",
       "      <td>243</td>\n",
       "      <td>4</td>\n",
       "    </tr>\n",
       "    <tr>\n",
       "      <td>20</td>\n",
       "      <td>Washington, Maryland</td>\n",
       "      <td>Maryland</td>\n",
       "      <td>151049.0</td>\n",
       "      <td>784</td>\n",
       "      <td>29</td>\n",
       "    </tr>\n",
       "    <tr>\n",
       "      <td>21</td>\n",
       "      <td>Wicomico, Maryland</td>\n",
       "      <td>Maryland</td>\n",
       "      <td>103609.0</td>\n",
       "      <td>1181</td>\n",
       "      <td>42</td>\n",
       "    </tr>\n",
       "    <tr>\n",
       "      <td>22</td>\n",
       "      <td>Worcester, Maryland</td>\n",
       "      <td>Maryland</td>\n",
       "      <td>52276.0</td>\n",
       "      <td>409</td>\n",
       "      <td>18</td>\n",
       "    </tr>\n",
       "  </tbody>\n",
       "</table>\n",
       "</div>"
      ],
      "text/plain": [
       "                       county     state  population  cases  deaths\n",
       "0          Allegany, Maryland  Maryland     70416.0    237      18\n",
       "1      Anne Arundel, Maryland  Maryland    579234.0   5963     213\n",
       "2    Baltimore city, Maryland  Maryland    593490.0   9442     382\n",
       "3         Baltimore, Maryland  Maryland    827370.0   9743     510\n",
       "4           Calvert, Maryland  Maryland     92525.0    491      27\n",
       "5          Caroline, Maryland  Maryland     33406.0    360       3\n",
       "6           Carroll, Maryland  Maryland    168447.0   1272     116\n",
       "7             Cecil, Maryland  Maryland    102855.0    554      29\n",
       "8           Charles, Maryland  Maryland    163257.0   1611      90\n",
       "9        Dorchester, Maryland  Maryland     31929.0    245       5\n",
       "10        Frederick, Maryland  Maryland    259547.0   2729     120\n",
       "11          Garrett, Maryland  Maryland     29014.0     34       0\n",
       "12          Harford, Maryland  Maryland    255441.0   1415      66\n",
       "13           Howard, Maryland  Maryland    325690.0   3103      98\n",
       "14             Kent, Maryland  Maryland     19422.0    222      23\n",
       "15       Montgomery, Maryland  Maryland   1050688.0  16410     768\n",
       "16  Prince George's, Maryland  Maryland    909327.0  21050     723\n",
       "17     Queen Anne's, Maryland  Maryland     50381.0    319      23\n",
       "18         Somerset, Maryland  Maryland     25616.0    108       3\n",
       "19           Talbot, Maryland  Maryland     37181.0    243       4\n",
       "20       Washington, Maryland  Maryland    151049.0    784      29\n",
       "21         Wicomico, Maryland  Maryland    103609.0   1181      42\n",
       "22        Worcester, Maryland  Maryland     52276.0    409      18"
      ]
     },
     "execution_count": 13,
     "metadata": {},
     "output_type": "execute_result"
    }
   ],
   "source": [
    "# Create dataframe for Maryland's current data.\n",
    "md_current = cc_current.loc[cc_current['state'] == 'Maryland']\n",
    "md_current.reset_index(inplace=True,drop=True)\n",
    "\n",
    "md_current"
   ]
  },
  {
   "cell_type": "markdown",
   "metadata": {},
   "source": [
    "## Create scatterplot"
   ]
  },
  {
   "cell_type": "code",
   "execution_count": 14,
   "metadata": {},
   "outputs": [
    {
     "data": {
      "image/png": "[encoded data removed]",
      "text/plain": [
       "<Figure size 432x288 with 1 Axes>"
      ]
     },
     "metadata": {
      "needs_background": "light"
     },
     "output_type": "display_data"
    },
    {
     "name": "stdout",
     "output_type": "stream",
     "text": [
      "Predicted Cases = 0.017046168484051456 * Population + -1008.5117085232837\n",
      "p-value: 1.1303271111153216e-11\n"
     ]
    }
   ],
   "source": [
    "# Model cases across population\n",
    "X = pd.DataFrame(md_current['population'])\n",
    "y = pd.DataFrame(md_current['cases'])\n",
    "# Create linear regression model.\n",
    "model = LinearRegression()\n",
    "model.fit(X, y)\n",
    "coef = model.coef_[0][0]\n",
    "intercept = model.intercept_[0]\n",
    "# Calculate p-value.A small p-value indicates strong evidence against the null hypothesis.\n",
    "F = f_regression(X, y.values.ravel(), center=True)\n",
    "\n",
    "# Create scatterplot of cases vs. population.\n",
    "plt.scatter(md_current['population'], md_current['cases'])\n",
    "plt.title('Cases vs. Population by County')\n",
    "plt.xlabel('Population')\n",
    "plt.ylabel('Cases')\n",
    "# Plot regression line\n",
    "plt.plot(md_current['population'], coef * md_current['population'] + intercept,  color='orange')\n",
    "plt.show()\n",
    "# Print fitted model.\n",
    "print('Predicted Cases = ' + str(coef) + ' * Population + ' + str(intercept))\n",
    "print('p-value: '+ str(F[1][0]))"
   ]
  },
  {
   "cell_type": "markdown",
   "metadata": {},
   "source": [
    "https://irpa.umd.edu/CampusCounts/Enrollments/stuprofile_allug.pdf\n",
    "\n",
    "Students living in residence halls are more likely to live outside of Prince George County. In Fall 2019, 11,902 UMD students were housed in residence halls."
   ]
  },
  {
   "cell_type": "code",
   "execution_count": 15,
   "metadata": {},
   "outputs": [
    {
     "data": {
      "text/plain": [
       "202.8834972971804"
      ]
     },
     "execution_count": 15,
     "metadata": {},
     "output_type": "execute_result"
    }
   ],
   "source": [
    "coef * 11902"
   ]
  },
  {
   "cell_type": "markdown",
   "metadata": {},
   "source": [
    "According to the linear regression model,  if residence halls were opened and filled to normal capacity, there would be a predicted 153 new cases in Prince George County."
   ]
  }
 ],
 "metadata": {
  "kernelspec": {
   "display_name": "Python 3",
   "language": "python",
   "name": "python3"
  },
  "language_info": {
   "codemirror_mode": {
    "name": "ipython",
    "version": 3
   },
   "file_extension": ".py",
   "mimetype": "text/x-python",
   "name": "python",
   "nbconvert_exporter": "python",
   "pygments_lexer": "ipython3",
   "version": "3.7.4"
  }
 },
 "nbformat": 4,
 "nbformat_minor": 4
}
